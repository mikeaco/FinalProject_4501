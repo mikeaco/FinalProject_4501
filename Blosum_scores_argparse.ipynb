{
 "cells": [
  {
   "cell_type": "code",
   "execution_count": 13,
   "id": "4d0885c7",
   "metadata": {},
   "outputs": [
    {
     "name": "stdout",
     "output_type": "stream",
     "text": [
      "Requirement already satisfied: blosum in /Users/essawifamily/opt/anaconda3/lib/python3.8/site-packages (1.1.2)\r\n"
     ]
    }
   ],
   "source": [
    "!pip install blosum\n",
    "import blosum as bl\n",
    "import utils\n",
    "import "
   ]
  },
  {
   "cell_type": "markdown",
   "id": "f1b809e2",
   "metadata": {},
   "source": [
    "# Blosum scoring given a mutation locus:\n",
    "blosum library allows us to easily index the blosum score for two amino acids"
   ]
  },
  {
   "cell_type": "code",
   "execution_count": 128,
   "id": "a433eba5",
   "metadata": {},
   "outputs": [
    {
     "name": "stdout",
     "output_type": "stream",
     "text": [
      "-inf\n",
      "11.0\n"
     ]
    },
    {
     "data": {
      "text/plain": [
       "'W'"
      ]
     },
     "execution_count": 128,
     "metadata": {},
     "output_type": "execute_result"
    }
   ],
   "source": [
    "blosum_matrix = bl.BLOSUM(62)\n",
    "print(blosum_matrix[\"_W\"])\n",
    "print(blosum_matrix[\"WW\"])\n",
    "utils.convert_to_amino('TGG')"
   ]
  },
  {
   "cell_type": "code",
   "execution_count": 168,
   "id": "1dce8109",
   "metadata": {},
   "outputs": [
    {
     "name": "stdout",
     "output_type": "stream",
     "text": [
      "Messing with a stop codon: {'A': -inf, 'T': -inf, 'G': -inf, 'C': -inf}\n",
      "\n",
      "Tryptophan: {'A': -3.0, 'T': 11.0, 'G': -2.0, 'C': -3.0}\n",
      "\n",
      "Messing with a start codon: {'A': -inf, 'T': 5.0, 'G': -inf, 'C': -inf}\n",
      "\n"
     ]
    }
   ],
   "source": [
    "def get_blosum_scores(nucleotide_index: int, original_seq: str) -> dict:\n",
    "    '''Function assumes that nucleotide index (mutation location) is 1 indexed (not zero indexed)\n",
    "    Function works with stop codons by nature of the blosum library'''\n",
    "    blosum_matrix = bl.BLOSUM(62)\n",
    "    ci = nucleotide_index%3 #ci -> codon index\n",
    "    codon = original_seq[(nucleotide_index - ci): (nucleotide_index - ci + 3)]\n",
    "    codon_amino = utils.convert_to_amino(codon.upper())\n",
    "    possible_nucleotides = [\"A\", \"T\", \"G\", \"C\"]\n",
    "    blosum_dict = {}\n",
    "    for item in possible_nucleotides:\n",
    "        if is_start_codon(codon): #if we have decided to mutate a start codon, don't\n",
    "            blosum_dict[item] = float('-inf') if original_seq[nucleotide_index].upper() != item else blosum_matrix[codon_amino.upper()*2]\n",
    "        else:\n",
    "            new_codon = (codon[0: ci - 1] + item + codon[ci:3] if ci > 0 else codon[0: ci - 1] + item + codon[ci:0]).upper()\n",
    "            new_amino = utils.convert_to_amino(new_codon)\n",
    "            blosum_dict[item] = blosum_matrix[new_amino + codon_amino.upper()]\n",
    "    return blosum_dict\n",
    "\n",
    "\n",
    "print(f'''Messing with a stop codon: {get_blosum_scores(1, \"taagcgcaagg\")}\\n''')\n",
    "print(f'''Tryptophan: {get_blosum_scores(1, \"tgggcgcaagg\")}\\n''')\n",
    "print(f'''Messing with a start codon: {get_blosum_scores(1, \"atggcgcaagg\")}\\n''')"
   ]
  },
  {
   "cell_type": "code",
   "execution_count": 169,
   "id": "5fab1209",
   "metadata": {},
   "outputs": [],
   "source": [
    "def is_start_or_stop_codon_amino(s: str) -> bool:\n",
    "    return s == \"_\" or s.lower() == \"x\" or s.lower() == \"m\"\n",
    "\n",
    "def is_start_or_stop_codon_nucleotides(s: str) -> bool:\n",
    "    s = s.lower()\n",
    "    return s == \"taa\" or s == \"tag\" or s == \"tga\" or s == 'atg'\n",
    "\n",
    "def is_start_codon(s:str) -> bool:\n",
    "    return s == 'atg'"
   ]
  },
  {
   "cell_type": "markdown",
   "id": "17f76739",
   "metadata": {},
   "source": [
    "# argparse"
   ]
  },
  {
   "cell_type": "code",
   "execution_count": 170,
   "id": "ce7de99d",
   "metadata": {},
   "outputs": [
    {
     "name": "stderr",
     "output_type": "stream",
     "text": [
      "usage: ipykernel_launcher.py [-h]\n",
      "                             fasta_filepath mutation_rate diversity_file\n",
      "                             mutation_time\n",
      "ipykernel_launcher.py: error: the following arguments are required: mutation_rate, diversity_file, mutation_time\n"
     ]
    },
    {
     "ename": "SystemExit",
     "evalue": "2",
     "output_type": "error",
     "traceback": [
      "An exception has occurred, use %tb to see the full traceback.\n",
      "\u001b[0;31mSystemExit\u001b[0m\u001b[0;31m:\u001b[0m 2\n"
     ]
    },
    {
     "name": "stderr",
     "output_type": "stream",
     "text": [
      "/Users/essawifamily/opt/anaconda3/lib/python3.8/site-packages/IPython/core/interactiveshell.py:3445: UserWarning: To exit: use 'exit', 'quit', or Ctrl-D.\n",
      "  warn(\"To exit: use 'exit', 'quit', or Ctrl-D.\", stacklevel=1)\n"
     ]
    }
   ],
   "source": [
    "import argparse\n",
    "\n",
    "parser = argparse.ArgumentParser(description='Process some integers.')\n",
    "parser.add_argument('fasta_filepath', type = list, help='list of filepaths to fasta files')\n",
    "parser.add_argument('mutation_rate', type = float, help='mutation rate')\n",
    "parser.add_argument('diversity_file', type = str, help='diversity file')\n",
    "parser.add_argument('mutation_time', type = str, help='number of years to mutation')\n",
    "args = parser.parse_args()"
   ]
  },
  {
   "cell_type": "code",
   "execution_count": 10,
   "id": "e5202ef4",
   "metadata": {},
   "outputs": [],
   "source": [
    "def simpleMatch(a, b):\n",
    "    return 1 if a == b else -1\n",
    "\n",
    "def distanceMatch(a, b):\n",
    "    return 0 if a == b else -1\n",
    "\n",
    "def linearGap(n):\n",
    "    return -1 * n\n",
    "\n",
    "def alignmentScoreDP(s1, s2, gapPenalty, match):\n",
    "    m = np.zeros((len(s1) + 1, len(s2) + 1))\n",
    "    m[0, 0] = 0\n",
    "    for i in range(1, len(s1) + 1):\n",
    "        m[i, 0] = gapPenalty(i)\n",
    "    for j in range(1, len(s2) + 1):\n",
    "        m[0, j] = gapPenalty(j)\n",
    "    for i in range(1, len(s1) + 1):\n",
    "        for j in range(1, len(s2) + 1):\n",
    "            m[i, j] = max(gapPenalty(1) + m[i, j - 1],  \n",
    "                          gapPenalty(1) + m[i - 1, j],    \n",
    "                          match(s1[i - 1], s2[j - 1]) + m[i - 1, j - 1]) \n",
    "    return m\n",
    "    \n",
    "def readAlignment(s1, s2, m, gapPenalty, match):\n",
    "    i = len(s1)\n",
    "    j = len(s2)\n",
    "    s1a = \"\"\n",
    "    s2a = \"\" \n",
    "    score = 0\n",
    "    while i > 0 or j > 0:\n",
    "        if i > 0 and j > 0 and m[i, j] == m[i - 1, j - 1] + match(s1[i - 1], s2[j - 1]):\n",
    "            i = i - 1\n",
    "            j = j - 1\n",
    "            score += match(s1[i], s2[j])\n",
    "            s1a = s1[i] + s1a\n",
    "            if s1[i] == s2[j]:\n",
    "                s2a = s2[j] + s2a\n",
    "            else:\n",
    "                s2a = s2[j].lower() + s2a\n",
    "        elif i > 0 and m[i, j] == m[i - 1, j] + gapPenalty(1):\n",
    "            i = i - 1\n",
    "            score += gapPenalty(1)\n",
    "            s1a = s1[i] + s1a\n",
    "            s2a = '-' + s2a\n",
    "        elif j > 0 and m[i, j] == m[i, j - 1] + gapPenalty(1):\n",
    "            j = j - 1\n",
    "            score += gapPenalty(1)\n",
    "            s1a = '-' + s1a\n",
    "            s2a = s2[j] + s2a\n",
    "        else:\n",
    "            assert False\n",
    "    return (s1a, s2a, score)\n",
    "\n",
    "def showAlignment(s1, s2, gapPenalty, match):\n",
    "    m = alignmentScoreDP(s1, s2, gapPenalty, match)\n",
    "    r = readAlignment(s1, s2, m, gapPenalty, match)\n",
    "    print (r[0] + \"\\n\" + r[1] + \"\\n\" + str(r[2]))\n",
    "    return (m, r)\n",
    "\n",
    "def readAlignmentG(s1, s2, m, gapPenalty, match):\n",
    "    i = len(s1)\n",
    "    j = len(s2)\n",
    "    s1a = \"\"\n",
    "    s2a = \"\"\n",
    "    score = 0\n",
    "    while i > 0 or j > 0:\n",
    "        if i > 0 and j > 0 and m[i, j] == m[i - 1, j - 1] + match(s1[i - 1], s2[j - 1]):\n",
    "            i = i - 1\n",
    "            j = j - 1\n",
    "            s1a = s1[i] + s1a\n",
    "            s2a = (s2[j] if s1[i] == s2[j] else s2[j].lower()) + s2a\n",
    "            score += match(s1[i], s2[j])\n",
    "        else:\n",
    "            foundit = False\n",
    "            for g in range(1, i + 1):\n",
    "                if m[i, j] == m[i - g, j] + gapPenalty(g):\n",
    "                    s1a = s1[i - g:i] + s1a\n",
    "                    s2a = ('-' * g) + s2a\n",
    "                    i = i - g\n",
    "                    score += gapPenalty(g)\n",
    "                    foundit = True\n",
    "                    break\n",
    "            if not foundit:\n",
    "                for g in range(1, j + 1):\n",
    "                    if m[i, j] == m[i, j - g] + gapPenalty(g):\n",
    "                        s1a = ('-' * g) + s1a\n",
    "                        s2a = s2[j - g:j] + s2a\n",
    "                        j = j - g\n",
    "                        score += gapPenalty(g)\n",
    "                        foundit = True\n",
    "                        break\n",
    "            assert foundit\n",
    "        return \n",
    "    return (s1a, s2a, score)"
   ]
  },
  {
   "cell_type": "code",
   "execution_count": null,
   "id": "3e55d902",
   "metadata": {},
   "outputs": [],
   "source": []
  },
  {
   "cell_type": "code",
   "execution_count": 141,
   "id": "8045599d",
   "metadata": {},
   "outputs": [],
   "source": [
    "#NOTE: This function is probably NOT needed. It was made without understanding clear specifications of the task\n",
    "\n",
    "def check_start_and_stop_codons(original: str, divergent: str, blosum_score: int) -> float:\n",
    "    original_amino_seq = original.lower()\n",
    "    divergent_amino_seq = divergent.lower()\n",
    "    for i in range(len(original_amino_seq)):\n",
    "        if is_start_or_stop_codon(original_amino_seq[i]) or is_start_or_stop_codon(divergent_amino_seq[i]):\n",
    "            if is_start_or_stop_codon(original_amino_seq[i]) != is_start_or_stop_codon(divergent_amino_seq[i]):\n",
    "                return blosum_score - 100000000 #Give a really low blosum score\n",
    "    return blosum_score\n",
    "    \n",
    "human_oca2, mouse_oca2 = utils.load_oca2_sequences()\n",
    "human_oca2_amino = utils.convert_to_amino(human_oca2).lower()\n",
    "mouse_oca2_amino = utils.convert_to_amino(mouse_oca2).lower()"
   ]
  }
 ],
 "metadata": {
  "kernelspec": {
   "display_name": "Python 3",
   "language": "python",
   "name": "python3"
  },
  "language_info": {
   "codemirror_mode": {
    "name": "ipython",
    "version": 3
   },
   "file_extension": ".py",
   "mimetype": "text/x-python",
   "name": "python",
   "nbconvert_exporter": "python",
   "pygments_lexer": "ipython3",
   "version": "3.8.8"
  }
 },
 "nbformat": 4,
 "nbformat_minor": 5
}
